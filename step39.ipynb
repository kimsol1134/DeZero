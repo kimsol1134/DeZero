{
 "cells": [
  {
   "cell_type": "markdown",
   "id": "dd991d12",
   "metadata": {},
   "source": [
    "## step39 합계 함수\n",
    "functions.py 에 Sum class 구현"
   ]
  },
  {
   "cell_type": "code",
   "execution_count": 1,
   "id": "3114bd1e",
   "metadata": {},
   "outputs": [],
   "source": [
    "import numpy as np\n",
    "from dezero import Variable\n",
    "import dezero.functions as F"
   ]
  },
  {
   "cell_type": "code",
   "execution_count": 3,
   "id": "78f48a25",
   "metadata": {},
   "outputs": [
    {
     "name": "stdout",
     "output_type": "stream",
     "text": [
      "variable(21)\n",
      "variable([1 1 1 1 1 1])\n"
     ]
    }
   ],
   "source": [
    "x = Variable(np.array([1,2,3,4,5,6]))\n",
    "y = F.sum(x)\n",
    "y.backward()\n",
    "print(y)\n",
    "print(x.grad)"
   ]
  },
  {
   "cell_type": "code",
   "execution_count": 4,
   "id": "1e4aac52",
   "metadata": {},
   "outputs": [
    {
     "name": "stdout",
     "output_type": "stream",
     "text": [
      "variable(21)\n",
      "variable([[1 1 1]\n",
      "          [1 1 1]])\n"
     ]
    }
   ],
   "source": [
    "x = Variable(np.array([[1, 2, 3], [4, 5, 6]]))\n",
    "y = F.sum(x)\n",
    "y.backward()\n",
    "print(y)\n",
    "print(x.grad)"
   ]
  },
  {
   "cell_type": "code",
   "execution_count": 5,
   "id": "cbd61236",
   "metadata": {},
   "outputs": [
    {
     "name": "stdout",
     "output_type": "stream",
     "text": [
      "variable([5 7 9])\n",
      "variable([[1 1 1]\n",
      "          [1 1 1]])\n",
      "(1, 1, 1, 1)\n"
     ]
    }
   ],
   "source": [
    "x = Variable(np.array([[1, 2, 3], [4, 5, 6]]))\n",
    "y = F.sum(x, axis=0)\n",
    "y.backward()\n",
    "print(y)\n",
    "print(x.grad)\n",
    "\n",
    "x = Variable(np.random.randn(2, 3, 4, 5))\n",
    "y = x.sum(keepdims=True)\n",
    "print(y.shape)"
   ]
  }
 ],
 "metadata": {
  "kernelspec": {
   "display_name": "venv",
   "language": "python",
   "name": "python3"
  },
  "language_info": {
   "codemirror_mode": {
    "name": "ipython",
    "version": 3
   },
   "file_extension": ".py",
   "mimetype": "text/x-python",
   "name": "python",
   "nbconvert_exporter": "python",
   "pygments_lexer": "ipython3",
   "version": "3.13.3"
  }
 },
 "nbformat": 4,
 "nbformat_minor": 5
}
