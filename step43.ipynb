{
 "cells": [
  {
   "cell_type": "markdown",
   "id": "945c6d2a",
   "metadata": {},
   "source": [
    "## step 43 신경망"
   ]
  },
  {
   "cell_type": "markdown",
   "id": "9f55e1c6",
   "metadata": {},
   "source": [
    "![그림 43-1 설명](./43-1.png)\n",
    "\n",
    "그림 43-1: 선형 변환의 두가지 구현 방식\n",
    "\n",
    "\n",
    "t는 역전파에 필요하지 않아 데이터 저장할 필요 없음\n",
    "[functions.py](DeZero/functions.py) 에서 linear_simple 함수로 구현"
   ]
  },
  {
   "cell_type": "markdown",
   "id": "d0fb352e",
   "metadata": {},
   "source": [
    "신경망에 활성화 함수 사용\n",
    "[functions.py](DeZero/functions.py) 에서 시그모이드 함수 구현"
   ]
  },
  {
   "cell_type": "code",
   "execution_count": 1,
   "id": "769f18c5",
   "metadata": {},
   "outputs": [],
   "source": [
    "import numpy as np\n",
    "from dezero import Variable\n",
    "import dezero.functions as F"
   ]
  },
  {
   "cell_type": "code",
   "execution_count": null,
   "id": "03eda34f",
   "metadata": {},
   "outputs": [],
   "source": [
    "# 비선형 데이터셋\n",
    "np.random.seed(0)\n",
    "x = np.random.rand(100, 1)\n",
    "y = np.sin(2 * np.pi * x) + np.random.rand(100, 1) # 데이터 생성에 sin 함수 이용\n",
    "\n",
    "# 가중치 초기화\n",
    "I, H, O = 1, 10, 1 # I : 입력층 차원, H : 은닉층 차원(Hyperparameter), O : 출력층 차원\n",
    "W1 = Variable(0.01 * np.random.randn(I, H)) # 작은 무작위값으로 초기화\n",
    "b1 = Variable(np.zeros(H)) # bias 0으로 초기화\n",
    "W2 = Variable(0.01 * np.random.randn(H, O))\n",
    "b2 = Variable(np.zeros(O))"
   ]
  },
  {
   "cell_type": "code",
   "execution_count": null,
   "id": "90987f81",
   "metadata": {},
   "outputs": [],
   "source": [
    "def predict(x): #신경망 추론\n",
    "    y = F.linear(x, W1, b1)\n",
    "    y = F.sigmoid(y)\n",
    "    y = F.linear(y, W2, b2)\n",
    "    return y"
   ]
  },
  {
   "cell_type": "code",
   "execution_count": null,
   "id": "c2ce2e60",
   "metadata": {},
   "outputs": [
    {
     "name": "stdout",
     "output_type": "stream",
     "text": [
      "variable(0.8473695850105871)\n",
      "variable(0.2514286285183606)\n",
      "variable(0.2475948546674987)\n",
      "variable(0.2378612044705482)\n",
      "variable(0.21222231333102917)\n",
      "variable(0.1674218111783415)\n",
      "variable(0.0968193261999265)\n",
      "variable(0.0784952829060233)\n",
      "variable(0.07749729552991157)\n",
      "variable(0.07722132399559319)\n"
     ]
    }
   ],
   "source": [
    "lr = 0.2 # 매개변수 갱신\n",
    "iters = 10000\n",
    "\n",
    "for i in range(iters):\n",
    "    y_pred = predict(x)\n",
    "    loss = F.mean_squared_error(y, y_pred)\n",
    "\n",
    "    W1.cleargrad()\n",
    "    b1.cleargrad()\n",
    "    W2.cleargrad()\n",
    "    b2.cleargrad()\n",
    "    loss.backward()\n",
    "\n",
    "    W1.data -= lr * W1.grad.data\n",
    "    b1.data -= lr * b1.grad.data\n",
    "    W2.data -= lr * W2.grad.data\n",
    "    b2.data -= lr * b2.grad.data\n",
    "    if i % 1000 == 0:\n",
    "        print(loss)"
   ]
  },
  {
   "cell_type": "markdown",
   "id": "aab4cf49",
   "metadata": {},
   "source": []
  }
 ],
 "metadata": {
  "kernelspec": {
   "display_name": "venv",
   "language": "python",
   "name": "python3"
  },
  "language_info": {
   "codemirror_mode": {
    "name": "ipython",
    "version": 3
   },
   "file_extension": ".py",
   "mimetype": "text/x-python",
   "name": "python",
   "nbconvert_exporter": "python",
   "pygments_lexer": "ipython3",
   "version": "3.13.3"
  }
 },
 "nbformat": 4,
 "nbformat_minor": 5
}
