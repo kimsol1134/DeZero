{
 "cells": [
  {
   "cell_type": "markdown",
   "metadata": {},
   "source": [
    "## Step 5 역전파 이론\n",
    "수치 미분에 비해 장점\n",
    "1. 미분을 효율적으로 계산가능\n",
    "2. 결과값의 오차가 더 적음"
   ]
  },
  {
   "cell_type": "markdown",
   "metadata": {},
   "source": [
    "#### 연쇄 법칙\n",
    "    합성 함수 미분법\n",
    "    구성 함수 각각을 미분한 후 곱한것과 같다\n",
    "#### 역전파 원리 도출\n",
    "    'y의 각 변수에 대한 미분값'이 오른쪽에서 왼쪽으로 전파됨\n",
    "    전파되는 데이터는 모두 'y의 미분값'\n",
    "#### 계산 그래프로 살펴보기\n",
    "    역전파를 계산하려면 먼저 순전파를 하고 각 함수가 입력 변수 값을 기억해두어야 함"
   ]
  },
  {
   "cell_type": "markdown",
   "metadata": {},
   "source": []
  }
 ],
 "metadata": {
  "language_info": {
   "name": "python"
  }
 },
 "nbformat": 4,
 "nbformat_minor": 2
}
