{
 "cells": [
  {
   "cell_type": "markdown",
   "id": "92da8ba7",
   "metadata": {},
   "source": [
    "## step 38 형상 변환 함수\n",
    "- 계산을 원소별로 하지 않는 함수 구현\n",
    "- 텐서의 형상을 고려 \n",
    "- x.data.shape == x.grad.shape 만족하게 역전파 구현"
   ]
  },
  {
   "cell_type": "code",
   "execution_count": 1,
   "id": "13fc82f4",
   "metadata": {},
   "outputs": [],
   "source": [
    "import numpy as np\n",
    "from dezero import Variable\n",
    "import dezero.functions as F"
   ]
  },
  {
   "cell_type": "markdown",
   "id": "88a0b935",
   "metadata": {},
   "source": [
    "#Reshape class functions.py 에 작성"
   ]
  },
  {
   "cell_type": "code",
   "execution_count": 2,
   "id": "34fae656",
   "metadata": {},
   "outputs": [
    {
     "name": "stdout",
     "output_type": "stream",
     "text": [
      "variable([[1 1 1]\n",
      "          [1 1 1]])\n"
     ]
    }
   ],
   "source": [
    "x = Variable(np.array([[0, 1, 2], [3, 4, 5]]))\n",
    "y = F.reshape(x, (6,))  # y = x.reshape(6)\n",
    "y.backward(retain_grad=True)\n",
    "print(x.grad)"
   ]
  },
  {
   "cell_type": "markdown",
   "id": "3a67ee6d",
   "metadata": {},
   "source": [
    "Numpy의 reshape 함수와 비슷하게 만들기 위해\n",
    "core.py Variable 클래스에 코드 추가\n",
    "\n",
    "transpose 함수 구현"
   ]
  },
  {
   "cell_type": "code",
   "execution_count": 3,
   "id": "7f72a116",
   "metadata": {},
   "outputs": [
    {
     "name": "stdout",
     "output_type": "stream",
     "text": [
      "variable([[1 1 1]\n",
      "          [1 1 1]])\n"
     ]
    }
   ],
   "source": [
    "x = Variable(np.array([[1, 2, 3], [4, 5, 6]]))\n",
    "y = F.transpose(x)\n",
    "y.backward()\n",
    "print(x.grad)"
   ]
  },
  {
   "cell_type": "code",
   "execution_count": null,
   "id": "ffa3bd86",
   "metadata": {},
   "outputs": [],
   "source": []
  }
 ],
 "metadata": {
  "kernelspec": {
   "display_name": "venv",
   "language": "python",
   "name": "python3"
  },
  "language_info": {
   "codemirror_mode": {
    "name": "ipython",
    "version": 3
   },
   "file_extension": ".py",
   "mimetype": "text/x-python",
   "name": "python",
   "nbconvert_exporter": "python",
   "pygments_lexer": "ipython3",
   "version": "3.13.3"
  }
 },
 "nbformat": 4,
 "nbformat_minor": 5
}
