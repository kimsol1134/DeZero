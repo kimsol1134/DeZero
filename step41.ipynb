{
 "cells": [
  {
   "cell_type": "markdown",
   "id": "d9715d52",
   "metadata": {},
   "source": [
    "## step41 행렬의 곱"
   ]
  },
  {
   "cell_type": "markdown",
   "id": "19d9cc9b",
   "metadata": {},
   "source": [
    "![그림 41-6 설명](./41-6.png)\n",
    "\n",
    "그림 41-6: 행렬의 곱셈 예시\n",
    "\n",
    "[functions.py](DeZero/functions.py) 에서 그대로 구현"
   ]
  },
  {
   "cell_type": "code",
   "execution_count": 3,
   "id": "fc219c42",
   "metadata": {},
   "outputs": [],
   "source": [
    "from dezero import Variable\n",
    "import dezero.functions as F\n",
    "import numpy as np"
   ]
  },
  {
   "cell_type": "code",
   "execution_count": 4,
   "id": "2607c1bc",
   "metadata": {},
   "outputs": [
    {
     "name": "stdout",
     "output_type": "stream",
     "text": [
      "(2, 3)\n",
      "(3, 4)\n"
     ]
    }
   ],
   "source": [
    "x = Variable(np.random.randn(2, 3))\n",
    "w = Variable(np.random.randn(3, 4))\n",
    "y = F.matmul(x, w)\n",
    "y.backward()\n",
    "\n",
    "print(x.grad.shape)\n",
    "print(w.grad.shape)"
   ]
  }
 ],
 "metadata": {
  "kernelspec": {
   "display_name": "venv",
   "language": "python",
   "name": "python3"
  },
  "language_info": {
   "codemirror_mode": {
    "name": "ipython",
    "version": 3
   },
   "file_extension": ".py",
   "mimetype": "text/x-python",
   "name": "python",
   "nbconvert_exporter": "python",
   "pygments_lexer": "ipython3",
   "version": "3.13.3"
  }
 },
 "nbformat": 4,
 "nbformat_minor": 5
}
