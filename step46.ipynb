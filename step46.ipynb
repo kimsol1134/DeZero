{
 "cells": [
  {
   "cell_type": "markdown",
   "id": "1d4e95cd",
   "metadata": {},
   "source": [
    "## step 46 Optimizer로 수행하는 매개변수 갱신"
   ]
  },
  {
   "cell_type": "markdown",
   "id": "a90fd59e",
   "metadata": {},
   "source": [
    "Optimizer 클래스 추가\n",
    "[optimizers.py](DeZero/optimizers.py) "
   ]
  },
  {
   "cell_type": "code",
   "execution_count": 1,
   "id": "a9cf6f68",
   "metadata": {},
   "outputs": [],
   "source": [
    "import numpy as np\n",
    "from dezero import Variable, optimizers\n",
    "import dezero.functions as F\n",
    "from dezero.models import MLP"
   ]
  },
  {
   "cell_type": "code",
   "execution_count": 2,
   "id": "b156dfe9",
   "metadata": {},
   "outputs": [],
   "source": [
    "np.random.seed(0)\n",
    "x = np.random.rand(100, 1)\n",
    "y = np.sin(2 * np.pi * x) + np.random.rand(100, 1)\n",
    "\n",
    "lr = 0.2\n",
    "max_iters = 10000\n",
    "hidden_size = 10"
   ]
  },
  {
   "cell_type": "code",
   "execution_count": 3,
   "id": "1380a640",
   "metadata": {},
   "outputs": [
    {
     "data": {
      "text/plain": [
       "<dezero.optimizers.SGD at 0x106dcea50>"
      ]
     },
     "execution_count": 3,
     "metadata": {},
     "output_type": "execute_result"
    }
   ],
   "source": [
    "model = MLP((hidden_size, 1))\n",
    "optimizer = optimizers.SGD(lr)\n",
    "optimizer.setup(model)"
   ]
  },
  {
   "cell_type": "code",
   "execution_count": 4,
   "id": "65e363ac",
   "metadata": {},
   "outputs": [
    {
     "name": "stdout",
     "output_type": "stream",
     "text": [
      "variable(0.8165178479901415)\n",
      "variable(0.2499028014603372)\n",
      "variable(0.24609874026436834)\n",
      "variable(0.23721586110833612)\n",
      "variable(0.20793217994822144)\n",
      "variable(0.12311919860580511)\n",
      "variable(0.07888168390348671)\n",
      "variable(0.0765607529785731)\n",
      "variable(0.07643364647799142)\n",
      "variable(0.07619374494842993)\n"
     ]
    }
   ],
   "source": [
    "# 학습 시작\n",
    "for i in range(max_iters):\n",
    "    y_pred = model(x)\n",
    "    loss = F.mean_squared_error(y, y_pred)\n",
    "\n",
    "    model.cleargrads()\n",
    "    loss.backward()\n",
    "\n",
    "    optimizer.update()\n",
    "    if i % 1000 == 0:\n",
    "        print(loss)"
   ]
  },
  {
   "cell_type": "markdown",
   "id": "5ebf8557",
   "metadata": {},
   "source": [
    "MomentumSGD 클래스 추가\n",
    "[optimizers.py](DeZero/optimizers.py) "
   ]
  }
 ],
 "metadata": {
  "kernelspec": {
   "display_name": ".venv",
   "language": "python",
   "name": "python3"
  },
  "language_info": {
   "codemirror_mode": {
    "name": "ipython",
    "version": 3
   },
   "file_extension": ".py",
   "mimetype": "text/x-python",
   "name": "python",
   "nbconvert_exporter": "python",
   "pygments_lexer": "ipython3",
   "version": "3.13.3"
  }
 },
 "nbformat": 4,
 "nbformat_minor": 5
}
