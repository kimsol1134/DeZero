{
 "cells": [
  {
   "cell_type": "markdown",
   "metadata": {},
   "source": [
    "## Step 31 고차 미분(이론 편)\n",
    "\n",
    "역전파를 할때에도 계산그래프(계산에 대한 연결)를 만들면 고차 미분을 구할수 있다.\n",
    "ndarray로 나오면 계산 그래프정보가 없어서 2차 미분을 구할 수 없다.\n",
    "grad를 Variable 객체(계산 그래프 연결정보 담고있는)로 만들어 저장"
   ]
  },
  {
   "cell_type": "code",
   "execution_count": null,
   "metadata": {
    "vscode": {
     "languageId": "plaintext"
    }
   },
   "outputs": [],
   "source": []
  }
 ],
 "metadata": {
  "language_info": {
   "name": "python"
  }
 },
 "nbformat": 4,
 "nbformat_minor": 2
}
