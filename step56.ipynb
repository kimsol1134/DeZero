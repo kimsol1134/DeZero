{
 "cells": [
  {
   "cell_type": "markdown",
   "metadata": {},
   "source": [
    "## CNN 메커니즘(2)\n",
    "1. 3차원 텐서 : 입력 데이터와 필터의 채널수 똑같이 맞춰줘야함\n",
    "2. 블록으로 생각하기\n",
    "3. 미니배치 처리\n",
    "4. 풀링층\n",
    "    - 학습하는 매개변수 없음\n",
    "    - 채널 수 변하지 않음\n",
    "    - 미세한 위치 변화에 영향을 덜 받음"
   ]
  }
 ],
 "metadata": {
  "kernelspec": {
   "display_name": ".venv",
   "language": "python",
   "name": "python3"
  },
  "language_info": {
   "name": "python",
   "version": "3.13.4"
  }
 },
 "nbformat": 4,
 "nbformat_minor": 2
}
