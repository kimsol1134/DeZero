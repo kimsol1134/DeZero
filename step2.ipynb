{
 "cells": [
  {
   "cell_type": "markdown",
   "metadata": {},
   "source": [
    "## Step 2 변수를 낳는 함수\n",
    "#### Function 클래스 구현\n",
    "    주의할점\n",
    "    1. Function 클래스는 Variable 인스턴스를 입력받아 Variable 인스턴스를 출력\n",
    "    2. Variable 인스턴스의 실제 데이터는 인스턴스 변수인 data에 있다."
   ]
  },
  {
   "cell_type": "code",
   "execution_count": 1,
   "metadata": {},
   "outputs": [],
   "source": [
    "class Function:\n",
    "    def __call__(self, input): #input은 Variable의 인스턴스로 가정\n",
    "        x = input.data # 데이터를 꺼낸다.\n",
    "        y = x ** 2 # 실제 계싼\n",
    "        output = Variable(y) # Variable 형태로 되돌린다\n",
    "        return output"
   ]
  },
  {
   "cell_type": "code",
   "execution_count": null,
   "metadata": {},
   "outputs": [],
   "source": [
    "x = Variable(np.array(10))\n",
    "f = Function() \n",
    "y = f(x)\n",
    "\n",
    "print(type(y))\n",
    "#<class '__main__.Variable'>\n",
    "print(y.data)"
   ]
  },
  {
   "cell_type": "code",
   "execution_count": null,
   "metadata": {},
   "outputs": [],
   "source": [
    "# 다양한 함수가 필요\n",
    "# Function 클래스는 기반 클래스로서, 모든 함수에 공통되는 기능을 구현\n",
    "# 구체적인 함수는 Function 클래스를 상속한 클래스에서 구현\n",
    "\n",
    "# 수정된 Function 클래스\n",
    "class Function:\n",
    "    def __call__(self, input):\n",
    "        x = input.data\n",
    "        y = self.forward(x) #구체적인 계싼은 forward 메서드에서 함.\n",
    "        output = Variable(y)\n",
    "        return output\n",
    "    def forward(self, x):\n",
    "        raise NotImplementedError()"
   ]
  },
  {
   "cell_type": "code",
   "execution_count": null,
   "metadata": {},
   "outputs": [],
   "source": [
    "class Square(Function):\n",
    "    def forward(self, x):\n",
    "        return x ** 2"
   ]
  },
  {
   "cell_type": "code",
   "execution_count": null,
   "metadata": {},
   "outputs": [],
   "source": [
    "x = Variable(np.array(10))\n",
    "f = Square()\n",
    "y = f(x)\n",
    "print(type(y))\n",
    "print(y.data)"
   ]
  }
 ],
 "metadata": {
  "kernelspec": {
   "display_name": "Python 3",
   "language": "python",
   "name": "python3"
  },
  "language_info": {
   "codemirror_mode": {
    "name": "ipython",
    "version": 3
   },
   "file_extension": ".py",
   "mimetype": "text/x-python",
   "name": "python",
   "nbconvert_exporter": "python",
   "pygments_lexer": "ipython3",
   "version": "3.12.5"
  }
 },
 "nbformat": 4,
 "nbformat_minor": 2
}
