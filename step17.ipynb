{
 "cells": [
  {
   "cell_type": "markdown",
   "metadata": {},
   "source": [
    "## Step 17 메모리 관리와 순환 참조"
   ]
  },
  {
   "cell_type": "markdown",
   "metadata": {},
   "source": [
    "#### 파이썬 메모리 관리\n",
    "1. 참조 카운트\n",
    "    - 순환 참조시 문제가 됨       \n",
    "2. Garbage Collection\n",
    "    - 순환참조 처리해주나 자동으로만 맡기기에 메모리 부족해질수있음\n",
    "\n",
    "#### weeakref 모듈\n",
    "다른 객체를 참조하되 참조 카운트는 증가시키지 않는 기능"
   ]
  },
  {
   "cell_type": "code",
   "execution_count": 6,
   "metadata": {},
   "outputs": [],
   "source": [
    "import numpy as np\n",
    "import weakref #추가"
   ]
  },
  {
   "cell_type": "code",
   "execution_count": 7,
   "metadata": {},
   "outputs": [],
   "source": [
    "class Variable:\n",
    "    def __init__(self, data):\n",
    "        if data is not None:\n",
    "            if not isinstance(data, np.ndarray):\n",
    "                raise TypeError('{}은(는) 지원하지 않습니다.'.format(type(data)))\n",
    "            \n",
    "        self.data = data\n",
    "        self.grad = None \n",
    "        self.creator = None\n",
    "        self.generation = 0 #세대 수를 기록하는 변수 추가\n",
    "\n",
    "    def set_creator(self, func):\n",
    "        self.creator = func\n",
    "        self.generation = func.generation + 1 #세대를 기록한다(부모 세대 +1)\n",
    "\n",
    "    def backward(self):\n",
    "        if self.grad is None:\n",
    "            self.grad = np.ones_like(self.data) \n",
    "\n",
    "        funcs = []# DeZero함수를 리스트에 추가하는 add_func함수 만듬\n",
    "        seen_set = set() # 같은 함수 중복 막기위해 집합으로\n",
    "\n",
    "        def add_func(f):\n",
    "            if f not in seen_set:\n",
    "                funcs.append(f)\n",
    "                seen_set.add(f)\n",
    "                funcs.sort(key=lambda x: x.generation)\n",
    "        \n",
    "        add_func(self.creator)#\n",
    "\n",
    "        while funcs:\n",
    "            f = funcs.pop() \n",
    "            gys = [output().grad for output in f.outputs]#output -> output()\n",
    "            gxs = f.backward(*gys) \n",
    "            if not isinstance(gxs, tuple): \n",
    "                gxs = (gxs,)\n",
    "            \n",
    "            for x, gx in zip(f.inputs, gxs): \n",
    "                if x.grad is None: \n",
    "                    x.grad = gx\n",
    "                else:\n",
    "                    x.grad = x.grad + gx \n",
    "\n",
    "                if x.creator is not None:\n",
    "                    add_func(x.creator)# 수정전 funcs.append(x.creator)\n",
    "    \n",
    "    def cleargrad(self):\n",
    "        self.grad = None "
   ]
  },
  {
   "cell_type": "code",
   "execution_count": 8,
   "metadata": {},
   "outputs": [],
   "source": [
    "def as_array(x):\n",
    "    if np.isscalar(x):\n",
    "        return np.array(x)\n",
    "    return x"
   ]
  },
  {
   "cell_type": "code",
   "execution_count": 9,
   "metadata": {},
   "outputs": [],
   "source": [
    "class Function:\n",
    "    def __call__(self, *inputs): \n",
    "        xs = [x.data for x in inputs] \n",
    "        ys = self.forward(*xs) \n",
    "        if not isinstance(ys, tuple): \n",
    "            ys = (ys,)\n",
    "        outputs = [Variable(as_array(y)) for y in ys] \n",
    "\n",
    "        self.generation = max([x.generation for x in inputs]) #fuction클래스 generation은 입력변수와 같은 값, 입력변수 많으면 generation 가장 큰 값으로 선택\n",
    "\n",
    "        for output in outputs:\n",
    "            output.set_creator(self) \n",
    "        self.inputs = inputs\n",
    "        self.outputs = [weakref.ref(output) for output in outputs]#self.outputs가 대상을 약한 참조로 가리키게 변경\n",
    "        return outputs if len(outputs) >1 else outputs[0] \n",
    "    \n",
    "    def forward(self, xs):\n",
    "        raise NotImplementedError()\n",
    "    def backward(self, gys):\n",
    "        raise NotImplementedError()"
   ]
  },
  {
   "cell_type": "code",
   "execution_count": 10,
   "metadata": {},
   "outputs": [],
   "source": [
    "class Square(Function):\n",
    "    def forward(self, x):\n",
    "        y = x ** 2\n",
    "        return y\n",
    "    def backward(self, gy):\n",
    "        x = self.inputs[0].data\n",
    "        gx = 2 * x * gy\n",
    "        return gx\n",
    "def square(x):\n",
    "    return Square()(x) \n",
    "    \n",
    "class Exp(Function):\n",
    "    def forward(self, x):\n",
    "        y = np.exp(x)\n",
    "        return y\n",
    "    \n",
    "    def backward(self, gy):\n",
    "        x = self.input.data\n",
    "        gx = np.exp(x) * gy\n",
    "        return gx\n",
    "def exp(x):\n",
    "    return Exp()(x)\n",
    "\n",
    "class Add(Function):\n",
    "    def forward(self, x0, x1):\n",
    "        y = x0 + x1\n",
    "        return y\n",
    "    \n",
    "    def backward(self, gy):\n",
    "        return gy, gy \n",
    "def add(x0, x1):\n",
    "    return Add()(x0, x1)"
   ]
  },
  {
   "cell_type": "code",
   "execution_count": 11,
   "metadata": {},
   "outputs": [],
   "source": [
    "for i in range(10):\n",
    "    x = Variable(np.random.randn(10000))\n",
    "    y = square(square(square(x)))"
   ]
  },
  {
   "cell_type": "code",
   "execution_count": null,
   "metadata": {},
   "outputs": [],
   "source": []
  }
 ],
 "metadata": {
  "kernelspec": {
   "display_name": "Python 3",
   "language": "python",
   "name": "python3"
  },
  "language_info": {
   "codemirror_mode": {
    "name": "ipython",
    "version": 3
   },
   "file_extension": ".py",
   "mimetype": "text/x-python",
   "name": "python",
   "nbconvert_exporter": "python",
   "pygments_lexer": "ipython3",
   "version": "3.12.5"
  }
 },
 "nbformat": 4,
 "nbformat_minor": 2
}
