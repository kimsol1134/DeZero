{
 "cells": [
  {
   "cell_type": "markdown",
   "metadata": {},
   "source": [
    "## Step 27 테일러 급수 미분\n",
    "https://www.youtube.com/watch?v=xE0QTkGmIHo&list=PLkoaXOTFHiqjfsanyvicarnZv-YLC8QN-&index=11"
   ]
  },
  {
   "cell_type": "code",
   "execution_count": 5,
   "metadata": {},
   "outputs": [],
   "source": [
    "import numpy as np\n",
    "import math\n",
    "from dezero import Function,Variable"
   ]
  },
  {
   "cell_type": "code",
   "execution_count": 3,
   "metadata": {},
   "outputs": [],
   "source": [
    "class Sin(Function):\n",
    "    def forward(self, x):\n",
    "        y = np.sin(x)\n",
    "        return y\n",
    "    def backward(self, gy):\n",
    "        x = self.inputs[0].data\n",
    "        gx = gy * np.cos(x)\n",
    "        return gx\n",
    "def sin(x):\n",
    "    return Sin()(x)"
   ]
  },
  {
   "cell_type": "code",
   "execution_count": 4,
   "metadata": {},
   "outputs": [
    {
     "name": "stdout",
     "output_type": "stream",
     "text": [
      "0.7071067811865475\n",
      "0.7071067811865476\n"
     ]
    }
   ],
   "source": [
    "x = Variable(np.array(np.pi/4))\n",
    "y = sin(x)\n",
    "y.backward()\n",
    "\n",
    "print(y.data)\n",
    "print(x.grad)"
   ]
  },
  {
   "cell_type": "code",
   "execution_count": 6,
   "metadata": {},
   "outputs": [],
   "source": [
    "def my_sin(x, threshold=0.0001):\n",
    "    y = 0\n",
    "    for i in range(100000):\n",
    "        c = (-1) ** i / math.factorial(2*i+1)\n",
    "        t = c * x **(2*i+1)\n",
    "        y = y+t\n",
    "        if abs(t.data) < threshold :\n",
    "            break\n",
    "    return y"
   ]
  },
  {
   "cell_type": "code",
   "execution_count": 7,
   "metadata": {},
   "outputs": [
    {
     "name": "stdout",
     "output_type": "stream",
     "text": [
      "0.7071064695751781\n",
      "0.7071032148228457\n"
     ]
    }
   ],
   "source": [
    "x = Variable(np.array(np.pi/4))\n",
    "y = my_sin(x)\n",
    "y.backward()\n",
    "\n",
    "print(y.data)\n",
    "print(x.grad)"
   ]
  }
 ],
 "metadata": {
  "kernelspec": {
   "display_name": "Python 3",
   "language": "python",
   "name": "python3"
  },
  "language_info": {
   "codemirror_mode": {
    "name": "ipython",
    "version": 3
   },
   "file_extension": ".py",
   "mimetype": "text/x-python",
   "name": "python",
   "nbconvert_exporter": "python",
   "pygments_lexer": "ipython3",
   "version": "3.12.5"
  }
 },
 "nbformat": 4,
 "nbformat_minor": 2
}
