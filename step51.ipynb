{
 "cells": [
  {
   "cell_type": "markdown",
   "id": "b1862d8c",
   "metadata": {},
   "source": [
    "## Step 51 MNIST 학습"
   ]
  },
  {
   "cell_type": "code",
   "execution_count": 1,
   "id": "a8c3fd08",
   "metadata": {},
   "outputs": [],
   "source": [
    "import dezero\n",
    "import dezero.functions as F\n",
    "from dezero import optimizers\n",
    "from dezero import DataLoader\n",
    "from dezero.models import MLP"
   ]
  },
  {
   "cell_type": "code",
   "execution_count": 3,
   "id": "240d399b",
   "metadata": {},
   "outputs": [],
   "source": [
    "max_epoch = 5\n",
    "batch_size = 100\n",
    "hidden_size = 1000\n",
    "\n",
    "train_set = dezero.datasets.MNIST(train=True)\n",
    "test_set = dezero.datasets.MNIST(train=False)\n",
    "train_loader = DataLoader(train_set, batch_size)\n",
    "test_loader = DataLoader(test_set, batch_size, shuffle=False)\n",
    "\n",
    "# model = MLP((hidden_size, 10))\n",
    "model = MLP((hidden_size, hidden_size, 10), activation=F.relu)\n",
    "optimizer = optimizers.SGD().setup(model)\n",
    "\n",
    "# optimizer = optimizers.Adam().setup(model)\n"
   ]
  },
  {
   "cell_type": "code",
   "execution_count": 4,
   "id": "81412206",
   "metadata": {},
   "outputs": [
    {
     "name": "stdout",
     "output_type": "stream",
     "text": [
      "epoch: 1\n",
      "train loss: 1.0652, accuracy: 0.7721\n",
      "test loss: 0.4838, accuracy: 0.8818\n",
      "epoch: 2\n",
      "train loss: 0.4194, accuracy: 0.8895\n",
      "test loss: 0.3469, accuracy: 0.9063\n",
      "epoch: 3\n",
      "train loss: 0.3382, accuracy: 0.9061\n",
      "test loss: 0.3034, accuracy: 0.9137\n",
      "epoch: 4\n",
      "train loss: 0.3005, accuracy: 0.9148\n",
      "test loss: 0.2749, accuracy: 0.9234\n",
      "epoch: 5\n",
      "train loss: 0.2750, accuracy: 0.9228\n",
      "test loss: 0.2541, accuracy: 0.9291\n"
     ]
    }
   ],
   "source": [
    "for epoch in range(max_epoch):\n",
    "    sum_loss, sum_acc = 0, 0\n",
    "\n",
    "    for x, t in train_loader:\n",
    "        y = model(x)\n",
    "        loss = F.softmax_cross_entropy(y, t)\n",
    "        acc = F.accuracy(y, t)\n",
    "        model.cleargrads()\n",
    "        loss.backward()\n",
    "        optimizer.update()\n",
    "\n",
    "        sum_loss += float(loss.data) * len(t)\n",
    "        sum_acc += float(acc.data) * len(t)\n",
    "\n",
    "    print('epoch: {}'.format(epoch+1))\n",
    "    print('train loss: {:.4f}, accuracy: {:.4f}'.format(\n",
    "        sum_loss / len(train_set), sum_acc / len(train_set)))\n",
    "\n",
    "    sum_loss, sum_acc = 0, 0\n",
    "    with dezero.no_grad():\n",
    "        for x, t in test_loader:\n",
    "            y = model(x)\n",
    "            loss = F.softmax_cross_entropy(y, t)\n",
    "            acc = F.accuracy(y, t)\n",
    "            sum_loss += float(loss.data) * len(t)\n",
    "            sum_acc += float(acc.data) * len(t)\n",
    "\n",
    "    print('test loss: {:.4f}, accuracy: {:.4f}'.format(\n",
    "        sum_loss / len(test_set), sum_acc / len(test_set)))"
   ]
  },
  {
   "cell_type": "code",
   "execution_count": null,
   "id": "e1e1c1f3",
   "metadata": {},
   "outputs": [],
   "source": []
  }
 ],
 "metadata": {
  "kernelspec": {
   "display_name": ".venv",
   "language": "python",
   "name": "python3"
  },
  "language_info": {
   "codemirror_mode": {
    "name": "ipython",
    "version": 3
   },
   "file_extension": ".py",
   "mimetype": "text/x-python",
   "name": "python",
   "nbconvert_exporter": "python",
   "pygments_lexer": "ipython3",
   "version": "3.13.3"
  }
 },
 "nbformat": 4,
 "nbformat_minor": 5
}
