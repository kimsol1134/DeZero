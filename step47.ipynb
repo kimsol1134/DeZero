{
 "cells": [
  {
   "cell_type": "markdown",
   "id": "0c11d852",
   "metadata": {},
   "source": [
    "## step47 소프트맥스 함수와 교차 엔트로피 오차\n",
    "\n",
    "다중 클래스 분류를 위한 사전 준비"
   ]
  },
  {
   "cell_type": "code",
   "execution_count": 1,
   "id": "19f5435e",
   "metadata": {},
   "outputs": [],
   "source": [
    "from dezero.models import MLP\n",
    "import numpy as np\n",
    "from dezero import Variable, as_variable\n",
    "import dezero.functions as F"
   ]
  },
  {
   "cell_type": "code",
   "execution_count": 2,
   "id": "6aed648d",
   "metadata": {},
   "outputs": [],
   "source": [
    "model = MLP((10,3))"
   ]
  },
  {
   "cell_type": "code",
   "execution_count": 3,
   "id": "62782686",
   "metadata": {},
   "outputs": [
    {
     "name": "stdout",
     "output_type": "stream",
     "text": [
      "variable([[1.20317687 0.23318368 0.22030122]])\n"
     ]
    }
   ],
   "source": [
    "x = np.array([[0.2, -0.4]])\n",
    "y = model(x)\n",
    "print(y)"
   ]
  },
  {
   "cell_type": "code",
   "execution_count": 4,
   "id": "abd44dbe",
   "metadata": {},
   "outputs": [],
   "source": [
    "def softmax1d(x):\n",
    "    x = as_variable(x)\n",
    "    y = F.exp(x)\n",
    "    sum_y = F.sum(y)\n",
    "    return y / sum_y"
   ]
  },
  {
   "cell_type": "code",
   "execution_count": 5,
   "id": "3f64bf2c",
   "metadata": {},
   "outputs": [
    {
     "name": "stdout",
     "output_type": "stream",
     "text": [
      "variable([[1.20317687 0.23318368 0.22030122]])\n",
      "variable([[0.57034687 0.2162103  0.21344284]])\n"
     ]
    }
   ],
   "source": [
    "x = np.array([[0.2, -0.4]])\n",
    "y = model(x)\n",
    "p = softmax1d(y)\n",
    "print(y)\n",
    "print(p)"
   ]
  },
  {
   "cell_type": "code",
   "execution_count": null,
   "id": "729ec27e",
   "metadata": {},
   "outputs": [],
   "source": []
  }
 ],
 "metadata": {
  "kernelspec": {
   "display_name": ".venv",
   "language": "python",
   "name": "python3"
  },
  "language_info": {
   "codemirror_mode": {
    "name": "ipython",
    "version": 3
   },
   "file_extension": ".py",
   "mimetype": "text/x-python",
   "name": "python",
   "nbconvert_exporter": "python",
   "pygments_lexer": "ipython3",
   "version": "3.13.3"
  }
 },
 "nbformat": 4,
 "nbformat_minor": 5
}
