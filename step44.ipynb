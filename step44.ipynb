{
 "cells": [
  {
   "cell_type": "markdown",
   "id": "3dec4af4",
   "metadata": {},
   "source": [
    "## step44 매개변수를 모아두는 계층\n",
    "- Parameter, Layer 클래스 구현"
   ]
  },
  {
   "cell_type": "code",
   "execution_count": null,
   "id": "f03b658c",
   "metadata": {},
   "outputs": [],
   "source": [
    "# Parameter class는 Variable 클래스 상속하면 끝\n",
    "# 기능은 완전히 같지만 isinstance로 구분 가능"
   ]
  },
  {
   "cell_type": "markdown",
   "id": "a25ae8c4",
   "metadata": {},
   "source": [
    "[layers.py](DeZero/layers.py) 에서 Layer, Linear 구현"
   ]
  },
  {
   "cell_type": "code",
   "execution_count": 1,
   "id": "43d65619",
   "metadata": {},
   "outputs": [],
   "source": [
    "import numpy as np\n",
    "import dezero.functions as F\n",
    "import dezero.layers as L"
   ]
  },
  {
   "cell_type": "code",
   "execution_count": 2,
   "id": "85dc229b",
   "metadata": {},
   "outputs": [],
   "source": [
    "np.random.seed(0)\n",
    "x = np.random.rand(100, 1)\n",
    "y = np.sin(2 * np.pi * x) + np.random.rand(100, 1)\n",
    "\n",
    "l1 = L.Linear(10) # 출력 크기 지정\n",
    "l2 = L.Linear(1)"
   ]
  },
  {
   "cell_type": "code",
   "execution_count": 3,
   "id": "b5513827",
   "metadata": {},
   "outputs": [],
   "source": [
    "def predict(x):\n",
    "    y = l1(x)\n",
    "    y = F.sigmoid(y)\n",
    "    y = l2(y)\n",
    "    return y\n"
   ]
  },
  {
   "cell_type": "code",
   "execution_count": 4,
   "id": "a1f6825d",
   "metadata": {},
   "outputs": [
    {
     "name": "stdout",
     "output_type": "stream",
     "text": [
      "variable(0.8165178479901415)\n",
      "variable(0.2499028014603372)\n",
      "variable(0.24609874026436834)\n",
      "variable(0.23721586110833612)\n",
      "variable(0.20793217994822144)\n",
      "variable(0.12311919860580511)\n",
      "variable(0.07888168390348671)\n",
      "variable(0.0765607529785731)\n",
      "variable(0.07643364647799142)\n",
      "variable(0.07619374494842993)\n"
     ]
    }
   ],
   "source": [
    "lr = 0.2\n",
    "iters = 10000\n",
    "\n",
    "for i in range(iters):\n",
    "    y_pred = predict(x)\n",
    "    loss = F.mean_squared_error(y, y_pred)\n",
    "\n",
    "    l1.cleargrads()\n",
    "    l2.cleargrads()\n",
    "    loss.backward()\n",
    "\n",
    "    for l in [l1, l2]:\n",
    "        for p in l.params():\n",
    "            p.data -= lr * p.grad.data\n",
    "    if i % 1000 == 0:\n",
    "        print(loss)"
   ]
  }
 ],
 "metadata": {
  "kernelspec": {
   "display_name": "venv",
   "language": "python",
   "name": "python3"
  },
  "language_info": {
   "codemirror_mode": {
    "name": "ipython",
    "version": 3
   },
   "file_extension": ".py",
   "mimetype": "text/x-python",
   "name": "python",
   "nbconvert_exporter": "python",
   "pygments_lexer": "ipython3",
   "version": "3.13.3"
  }
 },
 "nbformat": 4,
 "nbformat_minor": 5
}
