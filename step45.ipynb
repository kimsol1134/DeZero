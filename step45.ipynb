{
 "cells": [
  {
   "cell_type": "markdown",
   "id": "2a50aec1",
   "metadata": {},
   "source": [
    "## step45 계층을 모아두는 계층\n",
    "Layer 안에 Layer 들어가게 수정\n",
    "[layers.py](DeZero/layers.py)"
   ]
  },
  {
   "cell_type": "code",
   "execution_count": 2,
   "id": "3a6407fd",
   "metadata": {},
   "outputs": [],
   "source": [
    "import dezero.layers as L\n",
    "import dezero.functions as F\n",
    "from dezero import Layer, Model, Variable\n",
    "import numpy as np"
   ]
  },
  {
   "cell_type": "code",
   "execution_count": 3,
   "id": "f449a01a",
   "metadata": {},
   "outputs": [],
   "source": [
    "model = Layer()\n",
    "model.l1 = L.Linear(5)\n",
    "model.l2 = L.Linear(3) \n",
    "\n",
    "#추론을 수행하는 함수\n",
    "def predict(model, x):\n",
    "    y = model.l1(x)\n",
    "    y = F.sigmoid(y)\n",
    "    y = model.l2(y)\n",
    "    return y"
   ]
  },
  {
   "cell_type": "code",
   "execution_count": 4,
   "id": "ecfc3496",
   "metadata": {},
   "outputs": [
    {
     "name": "stdout",
     "output_type": "stream",
     "text": [
      "variable(None)\n",
      "variable([0. 0. 0.])\n",
      "variable(None)\n",
      "variable([0. 0. 0. 0. 0.])\n"
     ]
    }
   ],
   "source": [
    "# 모든 매개변수에 접근\n",
    "for p in model.params():\n",
    "    print(p)\n",
    "\n",
    "# 모든 매개변수의 기울기를 재설정\n",
    "model.cleargrads()"
   ]
  },
  {
   "cell_type": "code",
   "execution_count": 5,
   "id": "065593b5",
   "metadata": {},
   "outputs": [],
   "source": [
    "# 더 편하게 사용하기\n",
    "# Layer 클래스 상송\n",
    "\n",
    "class TwoLayerNet(Layer):\n",
    "    def __init__(self, hidden_size, out_size):\n",
    "        super().__init__()\n",
    "        self.l1 = L.Linear(hidden_size)\n",
    "        self.l2 = L.Linear(out_size)\n",
    "\n",
    "    def forward(self, x):\n",
    "        y = F.sigmoid(self.l1(x))\n",
    "        y = self.l2(y)\n",
    "        return y"
   ]
  },
  {
   "cell_type": "markdown",
   "id": "8d4065c9",
   "metadata": {},
   "source": [
    "Model 클래스 추가\n",
    "[models.py](DeZero/models.py) "
   ]
  },
  {
   "cell_type": "code",
   "execution_count": 6,
   "id": "cba40187",
   "metadata": {},
   "outputs": [],
   "source": [
    "class TwoLayerNet(Model):\n",
    "    def __init__(self, hidden_size, out_size):\n",
    "        super().__init__()\n",
    "        self.l1 = L.Linear(hidden_size)\n",
    "        self.l2 = L.Linear(out_size)\n",
    "\n",
    "    def forward(self, x):\n",
    "        y = F.sigmoid(self.l1(x))\n",
    "        y = self.l2(y)\n",
    "        return y"
   ]
  },
  {
   "cell_type": "code",
   "execution_count": 7,
   "id": "7099d5a6",
   "metadata": {},
   "outputs": [],
   "source": [
    "x = Variable(np.random.rand(5,10), name='x')\n",
    "model = TwoLayerNet(100,10)\n",
    "model.plot(x)"
   ]
  },
  {
   "cell_type": "code",
   "execution_count": 8,
   "id": "6e648517",
   "metadata": {},
   "outputs": [],
   "source": [
    "np.random.seed(0)\n",
    "x = np.random.rand(100, 1)\n",
    "y = np.sin(2 * np.pi * x) + np.random.rand(100, 1)"
   ]
  },
  {
   "cell_type": "code",
   "execution_count": 9,
   "id": "3c327639",
   "metadata": {},
   "outputs": [],
   "source": [
    "lr = 0.2\n",
    "max_iters = 10000\n",
    "hidden_size = 10"
   ]
  },
  {
   "cell_type": "code",
   "execution_count": 10,
   "id": "4ad46e6a",
   "metadata": {},
   "outputs": [],
   "source": [
    "class TwoLayerNet(Model):\n",
    "    def __init__(self, hidden_size, out_size):\n",
    "        super().__init__()\n",
    "        self.l1 = L.Linear(hidden_size)\n",
    "        self.l2 = L.Linear(out_size)\n",
    "\n",
    "    def forward(self, x):\n",
    "        y = F.sigmoid(self.l1(x))\n",
    "        y = self.l2(y)\n",
    "        return y\n",
    "\n",
    "model = TwoLayerNet(hidden_size, 1)"
   ]
  },
  {
   "cell_type": "code",
   "execution_count": 11,
   "id": "a769d906",
   "metadata": {},
   "outputs": [
    {
     "name": "stdout",
     "output_type": "stream",
     "text": [
      "variable(0.8165178479901415)\n",
      "variable(0.2499028014603372)\n",
      "variable(0.24609874026436834)\n",
      "variable(0.23721586110833612)\n",
      "variable(0.20793217994822144)\n",
      "variable(0.12311919860580511)\n",
      "variable(0.07888168390348671)\n",
      "variable(0.0765607529785731)\n",
      "variable(0.07643364647799142)\n",
      "variable(0.07619374494842993)\n"
     ]
    }
   ],
   "source": [
    "# 학습 시작\n",
    "for i in range(max_iters):\n",
    "    y_pred = model(x)\n",
    "    loss = F.mean_squared_error(y, y_pred)\n",
    "\n",
    "    model.cleargrads()\n",
    "    loss.backward()\n",
    "\n",
    "    for p in model.params():\n",
    "        p.data -= lr * p.grad.data\n",
    "    if i % 1000 == 0:\n",
    "        print(loss)"
   ]
  },
  {
   "cell_type": "markdown",
   "id": "e861ca75",
   "metadata": {},
   "source": [
    "MLP 클래스 추가\n",
    "[models.py](DeZero/models.py) "
   ]
  }
 ],
 "metadata": {
  "kernelspec": {
   "display_name": ".venv",
   "language": "python",
   "name": "python3"
  },
  "language_info": {
   "codemirror_mode": {
    "name": "ipython",
    "version": 3
   },
   "file_extension": ".py",
   "mimetype": "text/x-python",
   "name": "python",
   "nbconvert_exporter": "python",
   "pygments_lexer": "ipython3",
   "version": "3.13.3"
  }
 },
 "nbformat": 4,
 "nbformat_minor": 5
}
